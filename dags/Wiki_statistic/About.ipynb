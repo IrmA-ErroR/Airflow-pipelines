{
 "cells": [
  {
   "cell_type": "markdown",
   "metadata": {},
   "source": [
    "# Wiki statistics \n",
    "\n",
    "Code accompanying Chapter 4 of the book [Data Pipelines with Apache Airflow](https://www.manning.com/books/data-pipelines-with-apache-airflow).\n",
    "\n",
    ">This folder contains DAGs from Chapter 4. The filenames and DAG ids follow the listing ids in the book. Near the end of the chapter, we demonstrate usage of the PostgresOperator. The Docker Compose example in this folder creates a second Postgres database so you don't have to setup things yourself when running the example.\n",
    "If you like, you can access it:\n",
    "\n",
    "- Host: `localhost`\n",
    "- Port: `5433`\n",
    "- Username: `airflow`\n",
    "- Password: `airflow`\n",
    "- Database: `airflow`\n",
    "\n",
    "This database is initialized with the `pageview_counts` table as shown in the book.\n",
    "\n",
    "\n",
    "\n",
    "\n",
    "### Исходные данные :"
   ]
  },
  {
   "cell_type": "code",
   "execution_count": 4,
   "metadata": {},
   "outputs": [
    {
     "name": "stdout",
     "output_type": "stream",
     "text": [
      "--2024-08-23 14:41:09--  https://dumps.wikimedia.org/other/pageviews/2024/2024-07/pageviews-20240707-010000.gz\n",
      "Resolving dumps.wikimedia.org (dumps.wikimedia.org)... 208.80.154.71, 2620:0:861:3:208:80:154:71\n",
      "Connecting to dumps.wikimedia.org (dumps.wikimedia.org)|208.80.154.71|:443... connected.\n",
      "HTTP request sent, awaiting response... 200 OK\n",
      "Length: 42288444 (40M) [application/octet-stream]\n",
      "Saving to: ‘pageviews-20240707-010000.gz’\n",
      "\n",
      "pageviews-20240707- 100%[===================>]  40,33M  4,62MB/s    in 8,9s    \n",
      "\n",
      "2024-08-23 14:41:19 (4,55 MB/s) - ‘pageviews-20240707-010000.gz’ saved [42288444/42288444]\n",
      "\n",
      "\"\" Special:MyLanguage/Wikifunctions:Status_updates/2024-06-13 1 0\n",
      "\"\" Special:MyLanguage/Wikifunctions:Status_updates/2024-06-26 1 0\n",
      "\"\" Template:If_empty 1 0\n",
      "\"\" User:Ameisenigel 2 0\n",
      "\"\" User_talk:Ameisenigel 1 0\n",
      "\"\" User_talk:מקף 1 0\n",
      "\"\" Wikifunctions:Catalogue 1 0\n",
      "\"\" Wikifunctions:Function_model/cs 1 0\n",
      "\"\" Wikifunctions:General_disclaimer 1 0\n",
      "\"\" Wikifunctions:How_to_create_implementations 2 0\n"
     ]
    }
   ],
   "source": [
    "! mkdir -p data && \\\n",
    "    cd data && \\\n",
    "    wget https://dumps.wikimedia.org/other/pageviews/2024/2024-07/pageviews-20240707-010000.gz && \\\n",
    "    gunzip pageviews-20240707-010000.gz && \\\n",
    "    head pageviews-20240707-010000\n"
   ]
  },
  {
   "cell_type": "code",
   "execution_count": 13,
   "metadata": {},
   "outputs": [
    {
     "name": "stdout",
     "output_type": "stream",
     "text": [
      "1225933 en.m\n",
      " 869575 en\n",
      " 248692 ja.m\n",
      " 239556 es.m\n",
      " 142345 ja\n",
      " 127639 ru.m\n",
      " 124342 fr.m\n",
      " 118919 zh\n",
      " 111882 pt.m\n",
      " 109154 es\n",
      "sort: write failed: 'standard output': Broken pipe\n",
      "sort: write error\n"
     ]
    }
   ],
   "source": [
    "! awk '{print $1}' data/pageviews-20240707-010000 | sort | uniq -c | sort -nr | head"
   ]
  }
 ],
 "metadata": {
  "kernelspec": {
   "display_name": "venv",
   "language": "python",
   "name": "python3"
  },
  "language_info": {
   "codemirror_mode": {
    "name": "ipython",
    "version": 3
   },
   "file_extension": ".py",
   "mimetype": "text/x-python",
   "name": "python",
   "nbconvert_exporter": "python",
   "pygments_lexer": "ipython3",
   "version": "3.10.12"
  }
 },
 "nbformat": 4,
 "nbformat_minor": 2
}
